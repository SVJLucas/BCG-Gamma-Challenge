{
 "cells": [
  {
   "cell_type": "markdown",
   "metadata": {
    "id": "j6ai7FTmf_-H"
   },
   "source": [
    "## Context\n",
    "\n",
    "We need the area of family agriculture per municipality. The data we have provides the area of family agriculture per state and the number of families per municipality.\n",
    "\n",
    "We will make the approximation that the area of the municipality is proportional to the number of families in the municipality, that is,\n",
    "\n",
    "$A_{municipality} = A_{state} \\cdot \\frac{families_{municipality}}{families_{state}}$ \n"
   ]
  },
  {
   "cell_type": "markdown",
   "metadata": {
    "id": "aEuyKyOPf7Ab"
   },
   "source": [
    "## Setup"
   ]
  },
  {
   "cell_type": "code",
   "execution_count": null,
   "metadata": {
    "colab": {
     "base_uri": "https://localhost:8080/"
    },
    "executionInfo": {
     "elapsed": 19662,
     "status": "ok",
     "timestamp": 1653528751019,
     "user": {
      "displayName": "Alexandre Maranhão",
      "userId": "16593123161603654441"
     },
     "user_tz": 180
    },
    "id": "a3ifiuH3uYKy",
    "outputId": "cddb93df-ef96-4645-e600-55152d74b43f"
   },
   "outputs": [
    {
     "name": "stdout",
     "output_type": "stream",
     "text": [
      "Mounted at /content/drive\n"
     ]
    }
   ],
   "source": [
    "from google.colab import drive\n",
    "drive.mount (\"/content/drive\")"
   ]
  },
  {
   "cell_type": "code",
   "execution_count": null,
   "metadata": {
    "id": "G3yKt-wjyLB2"
   },
   "outputs": [],
   "source": [
    "import pandas as pd"
   ]
  },
  {
   "cell_type": "markdown",
   "metadata": {
    "id": "auTb78pLf8wz"
   },
   "source": [
    "## Reading the data"
   ]
  },
  {
   "cell_type": "markdown",
   "metadata": {
    "id": "ytXljfOia9r5"
   },
   "source": [
    "Program data per municipality"
   ]
  },
  {
   "cell_type": "code",
   "execution_count": null,
   "metadata": {
    "colab": {
     "base_uri": "https://localhost:8080/",
     "height": 485
    },
    "executionInfo": {
     "elapsed": 7,
     "status": "ok",
     "timestamp": 1653529549364,
     "user": {
      "displayName": "Alexandre Maranhão",
      "userId": "16593123161603654441"
     },
     "user_tz": 180
    },
    "id": "ynMtT4tsx6u9",
    "outputId": "06bc1409-5733-45ec-b3e4-14d0b875ff1f"
   },
   "outputs": [
    {
     "data": {
      "text/html": [
       "\n",
       "  <div id=\"df-a40cfe21-dc30-4c33-87c7-a7e8fc4f7128\">\n",
       "    <div class=\"colab-df-container\">\n",
       "      <div>\n",
       "<style scoped>\n",
       "    .dataframe tbody tr th:only-of-type {\n",
       "        vertical-align: middle;\n",
       "    }\n",
       "\n",
       "    .dataframe tbody tr th {\n",
       "        vertical-align: top;\n",
       "    }\n",
       "\n",
       "    .dataframe thead th {\n",
       "        text-align: right;\n",
       "    }\n",
       "</style>\n",
       "<table border=\"1\" class=\"dataframe\">\n",
       "  <thead>\n",
       "    <tr style=\"text-align: right;\">\n",
       "      <th></th>\n",
       "      <th>Código</th>\n",
       "      <th>Unidade Territorial</th>\n",
       "      <th>UF</th>\n",
       "      <th>Referência</th>\n",
       "      <th>Agricultores familiares fornecedores do Programa Alimenta Brasil</th>\n",
       "      <th>Recursos financeiros pagos aos agricultores familiares fornecedores do Programa Alimenta Brasil</th>\n",
       "    </tr>\n",
       "  </thead>\n",
       "  <tbody>\n",
       "    <tr>\n",
       "      <th>7</th>\n",
       "      <td>120001</td>\n",
       "      <td>ACRELÂNDIA</td>\n",
       "      <td>AC</td>\n",
       "      <td>12/2021</td>\n",
       "      <td>24</td>\n",
       "      <td>64901.20</td>\n",
       "    </tr>\n",
       "    <tr>\n",
       "      <th>16</th>\n",
       "      <td>120005</td>\n",
       "      <td>ASSIS BRASIL</td>\n",
       "      <td>AC</td>\n",
       "      <td>12/2021</td>\n",
       "      <td>18</td>\n",
       "      <td>47799.25</td>\n",
       "    </tr>\n",
       "    <tr>\n",
       "      <th>23</th>\n",
       "      <td>120010</td>\n",
       "      <td>BRASILÉIA</td>\n",
       "      <td>AC</td>\n",
       "      <td>12/2021</td>\n",
       "      <td>54</td>\n",
       "      <td>111367.32</td>\n",
       "    </tr>\n",
       "    <tr>\n",
       "      <th>34</th>\n",
       "      <td>120013</td>\n",
       "      <td>BUJARI</td>\n",
       "      <td>AC</td>\n",
       "      <td>12/2021</td>\n",
       "      <td>23</td>\n",
       "      <td>76536.73</td>\n",
       "    </tr>\n",
       "    <tr>\n",
       "      <th>45</th>\n",
       "      <td>120017</td>\n",
       "      <td>CAPIXABA</td>\n",
       "      <td>AC</td>\n",
       "      <td>12/2021</td>\n",
       "      <td>49</td>\n",
       "      <td>98417.80</td>\n",
       "    </tr>\n",
       "    <tr>\n",
       "      <th>...</th>\n",
       "      <td>...</td>\n",
       "      <td>...</td>\n",
       "      <td>...</td>\n",
       "      <td>...</td>\n",
       "      <td>...</td>\n",
       "      <td>...</td>\n",
       "    </tr>\n",
       "    <tr>\n",
       "      <th>28875</th>\n",
       "      <td>172120</td>\n",
       "      <td>TOCANTINÓPOLIS</td>\n",
       "      <td>TO</td>\n",
       "      <td>12/2021</td>\n",
       "      <td>10</td>\n",
       "      <td>53934.95</td>\n",
       "    </tr>\n",
       "    <tr>\n",
       "      <th>28885</th>\n",
       "      <td>172125</td>\n",
       "      <td>TUPIRAMA</td>\n",
       "      <td>TO</td>\n",
       "      <td>12/2021</td>\n",
       "      <td>4</td>\n",
       "      <td>22504.10</td>\n",
       "    </tr>\n",
       "    <tr>\n",
       "      <th>28894</th>\n",
       "      <td>172130</td>\n",
       "      <td>TUPIRATINS</td>\n",
       "      <td>TO</td>\n",
       "      <td>12/2021</td>\n",
       "      <td>25</td>\n",
       "      <td>139934.30</td>\n",
       "    </tr>\n",
       "    <tr>\n",
       "      <th>28901</th>\n",
       "      <td>172208</td>\n",
       "      <td>WANDERLÂNDIA</td>\n",
       "      <td>TO</td>\n",
       "      <td>12/2021</td>\n",
       "      <td>14</td>\n",
       "      <td>51645.81</td>\n",
       "    </tr>\n",
       "    <tr>\n",
       "      <th>28913</th>\n",
       "      <td>172210</td>\n",
       "      <td>XAMBIOÁ</td>\n",
       "      <td>TO</td>\n",
       "      <td>12/2021</td>\n",
       "      <td>6</td>\n",
       "      <td>28916.25</td>\n",
       "    </tr>\n",
       "  </tbody>\n",
       "</table>\n",
       "<p>2796 rows × 6 columns</p>\n",
       "</div>\n",
       "      <button class=\"colab-df-convert\" onclick=\"convertToInteractive('df-a40cfe21-dc30-4c33-87c7-a7e8fc4f7128')\"\n",
       "              title=\"Convert this dataframe to an interactive table.\"\n",
       "              style=\"display:none;\">\n",
       "        \n",
       "  <svg xmlns=\"http://www.w3.org/2000/svg\" height=\"24px\"viewBox=\"0 0 24 24\"\n",
       "       width=\"24px\">\n",
       "    <path d=\"M0 0h24v24H0V0z\" fill=\"none\"/>\n",
       "    <path d=\"M18.56 5.44l.94 2.06.94-2.06 2.06-.94-2.06-.94-.94-2.06-.94 2.06-2.06.94zm-11 1L8.5 8.5l.94-2.06 2.06-.94-2.06-.94L8.5 2.5l-.94 2.06-2.06.94zm10 10l.94 2.06.94-2.06 2.06-.94-2.06-.94-.94-2.06-.94 2.06-2.06.94z\"/><path d=\"M17.41 7.96l-1.37-1.37c-.4-.4-.92-.59-1.43-.59-.52 0-1.04.2-1.43.59L10.3 9.45l-7.72 7.72c-.78.78-.78 2.05 0 2.83L4 21.41c.39.39.9.59 1.41.59.51 0 1.02-.2 1.41-.59l7.78-7.78 2.81-2.81c.8-.78.8-2.07 0-2.86zM5.41 20L4 18.59l7.72-7.72 1.47 1.35L5.41 20z\"/>\n",
       "  </svg>\n",
       "      </button>\n",
       "      \n",
       "  <style>\n",
       "    .colab-df-container {\n",
       "      display:flex;\n",
       "      flex-wrap:wrap;\n",
       "      gap: 12px;\n",
       "    }\n",
       "\n",
       "    .colab-df-convert {\n",
       "      background-color: #E8F0FE;\n",
       "      border: none;\n",
       "      border-radius: 50%;\n",
       "      cursor: pointer;\n",
       "      display: none;\n",
       "      fill: #1967D2;\n",
       "      height: 32px;\n",
       "      padding: 0 0 0 0;\n",
       "      width: 32px;\n",
       "    }\n",
       "\n",
       "    .colab-df-convert:hover {\n",
       "      background-color: #E2EBFA;\n",
       "      box-shadow: 0px 1px 2px rgba(60, 64, 67, 0.3), 0px 1px 3px 1px rgba(60, 64, 67, 0.15);\n",
       "      fill: #174EA6;\n",
       "    }\n",
       "\n",
       "    [theme=dark] .colab-df-convert {\n",
       "      background-color: #3B4455;\n",
       "      fill: #D2E3FC;\n",
       "    }\n",
       "\n",
       "    [theme=dark] .colab-df-convert:hover {\n",
       "      background-color: #434B5C;\n",
       "      box-shadow: 0px 1px 3px 1px rgba(0, 0, 0, 0.15);\n",
       "      filter: drop-shadow(0px 1px 2px rgba(0, 0, 0, 0.3));\n",
       "      fill: #FFFFFF;\n",
       "    }\n",
       "  </style>\n",
       "\n",
       "      <script>\n",
       "        const buttonEl =\n",
       "          document.querySelector('#df-a40cfe21-dc30-4c33-87c7-a7e8fc4f7128 button.colab-df-convert');\n",
       "        buttonEl.style.display =\n",
       "          google.colab.kernel.accessAllowed ? 'block' : 'none';\n",
       "\n",
       "        async function convertToInteractive(key) {\n",
       "          const element = document.querySelector('#df-a40cfe21-dc30-4c33-87c7-a7e8fc4f7128');\n",
       "          const dataTable =\n",
       "            await google.colab.kernel.invokeFunction('convertToInteractive',\n",
       "                                                     [key], {});\n",
       "          if (!dataTable) return;\n",
       "\n",
       "          const docLinkHtml = 'Like what you see? Visit the ' +\n",
       "            '<a target=\"_blank\" href=https://colab.research.google.com/notebooks/data_table.ipynb>data table notebook</a>'\n",
       "            + ' to learn more about interactive tables.';\n",
       "          element.innerHTML = '';\n",
       "          dataTable['output_type'] = 'display_data';\n",
       "          await google.colab.output.renderOutput(dataTable, element);\n",
       "          const docLink = document.createElement('div');\n",
       "          docLink.innerHTML = docLinkHtml;\n",
       "          element.appendChild(docLink);\n",
       "        }\n",
       "      </script>\n",
       "    </div>\n",
       "  </div>\n",
       "  "
      ],
      "text/plain": [
       "       Código Unidade Territorial  UF Referência  \\\n",
       "7      120001          ACRELÂNDIA  AC    12/2021   \n",
       "16     120005        ASSIS BRASIL  AC    12/2021   \n",
       "23     120010           BRASILÉIA  AC    12/2021   \n",
       "34     120013              BUJARI  AC    12/2021   \n",
       "45     120017            CAPIXABA  AC    12/2021   \n",
       "...       ...                 ...  ..        ...   \n",
       "28875  172120      TOCANTINÓPOLIS  TO    12/2021   \n",
       "28885  172125            TUPIRAMA  TO    12/2021   \n",
       "28894  172130          TUPIRATINS  TO    12/2021   \n",
       "28901  172208        WANDERLÂNDIA  TO    12/2021   \n",
       "28913  172210             XAMBIOÁ  TO    12/2021   \n",
       "\n",
       "       Agricultores familiares fornecedores do Programa Alimenta Brasil  \\\n",
       "7                                                     24                  \n",
       "16                                                    18                  \n",
       "23                                                    54                  \n",
       "34                                                    23                  \n",
       "45                                                    49                  \n",
       "...                                                  ...                  \n",
       "28875                                                 10                  \n",
       "28885                                                  4                  \n",
       "28894                                                 25                  \n",
       "28901                                                 14                  \n",
       "28913                                                  6                  \n",
       "\n",
       "       Recursos financeiros pagos aos agricultores familiares fornecedores do Programa Alimenta Brasil  \n",
       "7                                               64901.20                                                \n",
       "16                                              47799.25                                                \n",
       "23                                             111367.32                                                \n",
       "34                                              76536.73                                                \n",
       "45                                              98417.80                                                \n",
       "...                                                  ...                                                \n",
       "28875                                           53934.95                                                \n",
       "28885                                           22504.10                                                \n",
       "28894                                          139934.30                                                \n",
       "28901                                           51645.81                                                \n",
       "28913                                           28916.25                                                \n",
       "\n",
       "[2796 rows x 6 columns]"
      ]
     },
     "execution_count": 62,
     "metadata": {},
     "output_type": "execute_result"
    }
   ],
   "source": [
    "# Number of families\n",
    "data_municipios = pd.read_csv('/content/drive/MyDrive/Data Competitions/BCG Gamma 2022/Dados - GAMMA Challenge 2022/Dados Extras/agricultura_familiar_municipios_complete.csv')\n",
    "data_municipios = data_municipios[data_municipios[\"Referência\"] == \"12/2021\"]\n",
    "data_municipios"
   ]
  },
  {
   "cell_type": "markdown",
   "metadata": {
    "id": "GRiEo8cbgH-2"
   },
   "source": [
    "Area per state"
   ]
  },
  {
   "cell_type": "code",
   "execution_count": null,
   "metadata": {
    "colab": {
     "base_uri": "https://localhost:8080/",
     "height": 332
    },
    "executionInfo": {
     "elapsed": 6,
     "status": "ok",
     "timestamp": 1653529549365,
     "user": {
      "displayName": "Alexandre Maranhão",
      "userId": "16593123161603654441"
     },
     "user_tz": 180
    },
    "id": "wwu5nM1Cuoyz",
    "outputId": "8ce53982-a8ed-49ce-80eb-560c85b78ad8"
   },
   "outputs": [
    {
     "data": {
      "text/html": [
       "\n",
       "  <div id=\"df-58f59f73-2b76-462d-9e57-855e29a77471\">\n",
       "    <div class=\"colab-df-container\">\n",
       "      <div>\n",
       "<style scoped>\n",
       "    .dataframe tbody tr th:only-of-type {\n",
       "        vertical-align: middle;\n",
       "    }\n",
       "\n",
       "    .dataframe tbody tr th {\n",
       "        vertical-align: top;\n",
       "    }\n",
       "\n",
       "    .dataframe thead th {\n",
       "        text-align: right;\n",
       "    }\n",
       "</style>\n",
       "<table border=\"1\" class=\"dataframe\">\n",
       "  <thead>\n",
       "    <tr style=\"text-align: right;\">\n",
       "      <th></th>\n",
       "      <th>Estado</th>\n",
       "      <th>Area(ha)</th>\n",
       "    </tr>\n",
       "  </thead>\n",
       "  <tbody>\n",
       "    <tr>\n",
       "      <th>0</th>\n",
       "      <td>AC</td>\n",
       "      <td>2017305</td>\n",
       "    </tr>\n",
       "    <tr>\n",
       "      <th>1</th>\n",
       "      <td>AP</td>\n",
       "      <td>296432</td>\n",
       "    </tr>\n",
       "    <tr>\n",
       "      <th>2</th>\n",
       "      <td>AM</td>\n",
       "      <td>1766255</td>\n",
       "    </tr>\n",
       "    <tr>\n",
       "      <th>3</th>\n",
       "      <td>MA</td>\n",
       "      <td>3780319</td>\n",
       "    </tr>\n",
       "    <tr>\n",
       "      <th>4</th>\n",
       "      <td>MT</td>\n",
       "      <td>5131104</td>\n",
       "    </tr>\n",
       "    <tr>\n",
       "      <th>5</th>\n",
       "      <td>PA</td>\n",
       "      <td>8624592</td>\n",
       "    </tr>\n",
       "    <tr>\n",
       "      <th>6</th>\n",
       "      <td>RO</td>\n",
       "      <td>3480247</td>\n",
       "    </tr>\n",
       "    <tr>\n",
       "      <th>7</th>\n",
       "      <td>RR</td>\n",
       "      <td>696140</td>\n",
       "    </tr>\n",
       "    <tr>\n",
       "      <th>8</th>\n",
       "      <td>TO</td>\n",
       "      <td>2886229</td>\n",
       "    </tr>\n",
       "  </tbody>\n",
       "</table>\n",
       "</div>\n",
       "      <button class=\"colab-df-convert\" onclick=\"convertToInteractive('df-58f59f73-2b76-462d-9e57-855e29a77471')\"\n",
       "              title=\"Convert this dataframe to an interactive table.\"\n",
       "              style=\"display:none;\">\n",
       "        \n",
       "  <svg xmlns=\"http://www.w3.org/2000/svg\" height=\"24px\"viewBox=\"0 0 24 24\"\n",
       "       width=\"24px\">\n",
       "    <path d=\"M0 0h24v24H0V0z\" fill=\"none\"/>\n",
       "    <path d=\"M18.56 5.44l.94 2.06.94-2.06 2.06-.94-2.06-.94-.94-2.06-.94 2.06-2.06.94zm-11 1L8.5 8.5l.94-2.06 2.06-.94-2.06-.94L8.5 2.5l-.94 2.06-2.06.94zm10 10l.94 2.06.94-2.06 2.06-.94-2.06-.94-.94-2.06-.94 2.06-2.06.94z\"/><path d=\"M17.41 7.96l-1.37-1.37c-.4-.4-.92-.59-1.43-.59-.52 0-1.04.2-1.43.59L10.3 9.45l-7.72 7.72c-.78.78-.78 2.05 0 2.83L4 21.41c.39.39.9.59 1.41.59.51 0 1.02-.2 1.41-.59l7.78-7.78 2.81-2.81c.8-.78.8-2.07 0-2.86zM5.41 20L4 18.59l7.72-7.72 1.47 1.35L5.41 20z\"/>\n",
       "  </svg>\n",
       "      </button>\n",
       "      \n",
       "  <style>\n",
       "    .colab-df-container {\n",
       "      display:flex;\n",
       "      flex-wrap:wrap;\n",
       "      gap: 12px;\n",
       "    }\n",
       "\n",
       "    .colab-df-convert {\n",
       "      background-color: #E8F0FE;\n",
       "      border: none;\n",
       "      border-radius: 50%;\n",
       "      cursor: pointer;\n",
       "      display: none;\n",
       "      fill: #1967D2;\n",
       "      height: 32px;\n",
       "      padding: 0 0 0 0;\n",
       "      width: 32px;\n",
       "    }\n",
       "\n",
       "    .colab-df-convert:hover {\n",
       "      background-color: #E2EBFA;\n",
       "      box-shadow: 0px 1px 2px rgba(60, 64, 67, 0.3), 0px 1px 3px 1px rgba(60, 64, 67, 0.15);\n",
       "      fill: #174EA6;\n",
       "    }\n",
       "\n",
       "    [theme=dark] .colab-df-convert {\n",
       "      background-color: #3B4455;\n",
       "      fill: #D2E3FC;\n",
       "    }\n",
       "\n",
       "    [theme=dark] .colab-df-convert:hover {\n",
       "      background-color: #434B5C;\n",
       "      box-shadow: 0px 1px 3px 1px rgba(0, 0, 0, 0.15);\n",
       "      filter: drop-shadow(0px 1px 2px rgba(0, 0, 0, 0.3));\n",
       "      fill: #FFFFFF;\n",
       "    }\n",
       "  </style>\n",
       "\n",
       "      <script>\n",
       "        const buttonEl =\n",
       "          document.querySelector('#df-58f59f73-2b76-462d-9e57-855e29a77471 button.colab-df-convert');\n",
       "        buttonEl.style.display =\n",
       "          google.colab.kernel.accessAllowed ? 'block' : 'none';\n",
       "\n",
       "        async function convertToInteractive(key) {\n",
       "          const element = document.querySelector('#df-58f59f73-2b76-462d-9e57-855e29a77471');\n",
       "          const dataTable =\n",
       "            await google.colab.kernel.invokeFunction('convertToInteractive',\n",
       "                                                     [key], {});\n",
       "          if (!dataTable) return;\n",
       "\n",
       "          const docLinkHtml = 'Like what you see? Visit the ' +\n",
       "            '<a target=\"_blank\" href=https://colab.research.google.com/notebooks/data_table.ipynb>data table notebook</a>'\n",
       "            + ' to learn more about interactive tables.';\n",
       "          element.innerHTML = '';\n",
       "          dataTable['output_type'] = 'display_data';\n",
       "          await google.colab.output.renderOutput(dataTable, element);\n",
       "          const docLink = document.createElement('div');\n",
       "          docLink.innerHTML = docLinkHtml;\n",
       "          element.appendChild(docLink);\n",
       "        }\n",
       "      </script>\n",
       "    </div>\n",
       "  </div>\n",
       "  "
      ],
      "text/plain": [
       "  Estado  Area(ha)\n",
       "0     AC   2017305\n",
       "1     AP    296432\n",
       "2     AM   1766255\n",
       "3     MA   3780319\n",
       "4     MT   5131104\n",
       "5     PA   8624592\n",
       "6     RO   3480247\n",
       "7     RR    696140\n",
       "8     TO   2886229"
      ]
     },
     "execution_count": 63,
     "metadata": {},
     "output_type": "execute_result"
    }
   ],
   "source": [
    "data_uf = pd.read_csv('/content/drive/MyDrive/Data Competitions/BCG Gamma 2022/Dados - GAMMA Challenge 2022/Dados Extras/area_agricultura_familiar_por_estado.csv')\n",
    "data_uf"
   ]
  },
  {
   "cell_type": "markdown",
   "metadata": {
    "id": "y5v2URkkghB8"
   },
   "source": [
    "## Calculations"
   ]
  },
  {
   "cell_type": "markdown",
   "metadata": {
    "id": "flE0tb-sgUwy"
   },
   "source": [
    "Number of families per state"
   ]
  },
  {
   "cell_type": "code",
   "execution_count": null,
   "metadata": {
    "id": "0ZiwVoEFyMkG"
   },
   "outputs": [],
   "source": [
    "families_per_state = data_municipios.groupby('UF').sum()['Agricultores familiares fornecedores do Programa Alimenta Brasil']\n",
    "data_uf['familias_no_estado'] = data_uf['Estado'].map(families_per_state)\n",
    "data_uf"
   ]
  },
  {
   "cell_type": "markdown",
   "metadata": {
    "id": "k3Vz91I2ganh"
   },
   "source": [
    "Join municipalities with state"
   ]
  },
  {
   "cell_type": "code",
   "execution_count": null,
   "metadata": {
    "id": "-5OpkPc7gmF5"
   },
   "outputs": [],
   "source": [
    "area_municipio = data_municipios.merge(data_uf, left_on=\"UF\", right_on=\"Estado\")\n",
    "area_municipio"
   ]
  },
  {
   "cell_type": "markdown",
   "metadata": {
    "id": "48zaJcOXgn0z"
   },
   "source": [
    "Approximation $A_{municipality} = A_{state} \\cdot \\frac{families_{municipality}}{families_{state}}$ "
   ]
  },
  {
   "cell_type": "code",
   "execution_count": null,
   "metadata": {
    "id": "bwBSLNIP0qTo"
   },
   "outputs": [],
   "source": [
    "area_municipio['area_municipio(ha)'] = (area_municipio['Agricultores familiares fornecedores do Programa Alimenta Brasil'] / area_municipio['familias_no_estado']) * area_municipio['Area(ha)']\n",
    "area_municipio"
   ]
  },
  {
   "cell_type": "code",
   "execution_count": null,
   "metadata": {
    "id": "i3NhF1lv_tsk"
   },
   "outputs": [],
   "source": [
    "area_municipio[['Código', 'Unidade Territorial', 'UF', 'area_municipio(ha)']].to_csv('/content/drive/MyDrive/Data Competitions/BCG Gamma 2022/Dados - GAMMA Challenge 2022/Dados Extras/area_por_municipio.csv', index=False)"
   ]
  }
 ],
 "metadata": {
  "colab": {
   "collapsed_sections": [],
   "name": "13 - Área por município.ipynb",
   "provenance": []
  },
  "kernelspec": {
   "display_name": "Python 3",
   "language": "python",
   "name": "python3"
  },
  "language_info": {
   "codemirror_mode": {
    "name": "ipython",
    "version": 3
   },
   "file_extension": ".py",
   "mimetype": "text/x-python",
   "name": "python",
   "nbconvert_exporter": "python",
   "pygments_lexer": "ipython3",
   "version": "3.7.13"
  }
 },
 "nbformat": 4,
 "nbformat_minor": 1
}
