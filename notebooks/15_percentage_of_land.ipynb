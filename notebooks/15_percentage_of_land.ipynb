{
 "cells": [
  {
   "cell_type": "markdown",
   "metadata": {
    "id": "uBJ8OxKAU9xy"
   },
   "source": [
    "Our objective is to calculate the percentage of land from family agriculture that can be allocated to forest-compatible products, given a monthly assistance value. In the model, this percentage is denoted by $\\kappa$."
   ]
  },
  {
   "cell_type": "markdown",
   "metadata": {
    "id": "eri_sfTqhfsn"
   },
   "source": [
    "From the optimization results with $\\kappa=0.3$"
   ]
  },
  {
   "cell_type": "code",
   "execution_count": 10,
   "metadata": {
    "executionInfo": {
     "elapsed": 345,
     "status": "ok",
     "timestamp": 1653786070474,
     "user": {
      "displayName": "Alexandre Maranhão",
      "userId": "16593123161603654441"
     },
     "user_tz": 180
    },
    "id": "_DOZD6LqheDx"
   },
   "outputs": [],
   "source": [
    "return_value = 37.7*int(1e6)\n",
    "assumed_kappa = 0.3"
   ]
  },
  {
   "cell_type": "markdown",
   "metadata": {
    "id": "-N-vpHpshtRC"
   },
   "source": [
    "Assuming it is possible to spend an average of 300 Brazilian reais per family."
   ]
  },
  {
   "cell_type": "code",
   "execution_count": 11,
   "metadata": {
    "executionInfo": {
     "elapsed": 4,
     "status": "ok",
     "timestamp": 1653786070825,
     "user": {
      "displayName": "Alexandre Maranhão",
      "userId": "16593123161603654441"
     },
     "user_tz": 180
    },
    "id": "w6oHrBfwhm6A"
   },
   "outputs": [],
   "source": [
    "cost_per_family = 200\n",
    "number_families = 11122 # Data from the government, sum of families in the 9 states of Legal Amazon\n",
    "\n",
    "total_cost = cost_per_family * number_families * 12"
   ]
  },
  {
   "cell_type": "code",
   "execution_count": 12,
   "metadata": {
    "colab": {
     "base_uri": "https://localhost:8080/"
    },
    "executionInfo": {
     "elapsed": 4,
     "status": "ok",
     "timestamp": 1653786070826,
     "user": {
      "displayName": "Alexandre Maranhão",
      "userId": "16593123161603654441"
     },
     "user_tz": 180
    },
    "id": "jJqnvfsQkJFX",
    "outputId": "928b20db-b843-491b-c256-5998362e9e4a"
   },
   "outputs": [
    {
     "data": {
      "text/plain": [
       "26692800"
      ]
     },
     "execution_count": 12,
     "metadata": {},
     "output_type": "execute_result"
    }
   ],
   "source": [
    "total_cost"
   ]
  },
  {
   "cell_type": "markdown",
   "metadata": {
    "id": "FuUpn1Oqh_KX"
   },
   "source": [
    "Proportion calculation to determine the necessary percentage of land."
   ]
  },
  {
   "cell_type": "code",
   "execution_count": 13,
   "metadata": {
    "executionInfo": {
     "elapsed": 348,
     "status": "ok",
     "timestamp": 1653786072489,
     "user": {
      "displayName": "Alexandre Maranhão",
      "userId": "16593123161603654441"
     },
     "user_tz": 180
    },
    "id": "pAAijcthiC9E"
   },
   "outputs": [],
   "source": [
    "necessary_kappa = total_cost * assumed_kappa / return_value"
   ]
  },
  {
   "cell_type": "code",
   "execution_count": 14,
   "metadata": {
    "colab": {
     "base_uri": "https://localhost:8080/"
    },
    "executionInfo": {
     "elapsed": 3,
     "status": "ok",
     "timestamp": 1653786073826,
     "user": {
      "displayName": "Alexandre Maranhão",
      "userId": "16593123161603654441"
     },
     "user_tz": 180
    },
    "id": "qXFLkHOWit_C",
    "outputId": "21049e14-d113-48b8-9234-9caa85cbc08b"
   },
   "outputs": [
    {
     "data": {
      "text/plain": [
       "0.21240954907161805"
      ]
     },
     "execution_count": 14,
     "metadata": {},
     "output_type": "execute_result"
    }
   ],
   "source": [
    "necessary_kappa"
   ]
  }
 ],
 "metadata": {
  "colab": {
   "authorship_tag": "ABX9TyN3jSewzLDr7ci17t42zoWu",
   "collapsed_sections": [],
   "name": "13 - Porcentagem das terras",
   "provenance": []
  },
  "kernelspec": {
   "display_name": "Python 3",
   "language": "python",
   "name": "python3"
  },
  "language_info": {
   "codemirror_mode": {
    "name": "ipython",
    "version": 3
   },
   "file_extension": ".py",
   "mimetype": "text/x-python",
   "name": "python",
   "nbconvert_exporter": "python",
   "pygments_lexer": "ipython3",
   "version": "3.7.13"
  }
 },
 "nbformat": 4,
 "nbformat_minor": 1
}
