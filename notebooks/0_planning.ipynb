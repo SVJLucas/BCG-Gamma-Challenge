{
 "cells": [
  {
   "cell_type": "markdown",
   "metadata": {
    "id": "qKOOzaa3RTvd"
   },
   "source": [
    "## Optimization parameter\n",
    "$\\theta_{c, p}$: Percentage of product $p$ in city $c$.\n",
    "\n",
    "\n",
    "## Profit\n",
    "\n",
    "$\\mathcal{L}(\\mathbf{\\theta}) = \\sum_{c}^{cities}\\sum_{p}^{products} \\kappa \\cdot A(c) \\cdot \\theta_{c, p} \\cdot \\rho(c, p)  $\n",
    "\n",
    "Where:\n",
    "\n",
    "$A(c)$: Planted area for city $c$ (program data)\n",
    "\n",
    "$\\kappa$: Percentage of the area that will receive new products\n",
    "\n",
    "$\\rho(e, p)$: Productivity (amount/area) of product $p$ in state $e$\n",
    "\n",
    "- For some cases, we have $\\rho(e, p)$ as data\n",
    "- For others, we will use an estimator based on features of weather and soil $\\rho(e, p) = \\hat{\\rho}(\\mathcal{C}(c), p)$\n",
    "\n",
    "$\\mathcal{C}(c)$: Vector of weather and soil features for each city $c$\n",
    "\n",
    "## Optimization function\n",
    "\n",
    "$ max \\, J(\\mathbf{\\theta}) = \\frac{\\mathcal{L}(\\mathbf{\\theta})}{\\sigma(\\theta)} = \\frac{\\sum_{c}^{cities}\\sum_{p}^{products} \\kappa \\cdot A(c) \\cdot \\theta_{c, p} \\cdot \\rho(c, p)}{\\sqrt{\\sum_{c}^{cities}\\mathbf{\\theta_c^T} \\Sigma_{c}\\mathbf{\\theta_c}}}$\n"
   ]
  },
  {
   "cell_type": "markdown",
   "metadata": {
    "id": "caZuYzuQI_xM"
   },
   "source": [
    "\\begin{array}{cc}\n",
    "\\text{Parameter}    & \\text{Origin}  \\\\ \\hline\n",
    "A(c) & \\text{Program Data}   \\\\\n",
    "\\kappa & \\text{Assumption}   \\\\\n",
    "\\Sigma(p) & \\text{Calculated from production data}  \\\\\n",
    "\\mathcal{C}(c) & \\text{Weather and soil data} \\\\\n",
    "\\rho(\\mathcal{C}, p) & \\text{Estimator} \\\\\\hline                      \n",
    "\\end{array}"
   ]
  }
 ],
 "metadata": {
  "colab": {
   "collapsed_sections": [],
   "name": "0 - Planejamento.ipynb",
   "provenance": []
  },
  "kernelspec": {
   "display_name": "Python 3",
   "language": "python",
   "name": "python3"
  },
  "language_info": {
   "codemirror_mode": {
    "name": "ipython",
    "version": 3
   },
   "file_extension": ".py",
   "mimetype": "text/x-python",
   "name": "python",
   "nbconvert_exporter": "python",
   "pygments_lexer": "ipython3",
   "version": "3.7.13"
  }
 },
 "nbformat": 4,
 "nbformat_minor": 1
}
